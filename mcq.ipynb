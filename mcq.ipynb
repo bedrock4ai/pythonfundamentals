{
 "cells": [
  {
   "cell_type": "code",
   "execution_count": null,
   "id": "caroline-beads",
   "metadata": {},
   "outputs": [],
   "source": [
    "'''Approach 1: Using String and basic conditional logic'''\n",
    "response1 = input(\"What is the capital of USA \\n a) Washington, D.C. \\n b) some random state \\n c) one more random entry\")\n",
    "if response1==\"a\":\n",
    "    print(\"That's correct, well Done\")\n",
    "else:\n",
    "    print(\"The correct response was: a \")"
   ]
  },
  {
   "cell_type": "code",
   "execution_count": null,
   "id": "correct-humidity",
   "metadata": {},
   "outputs": [],
   "source": [
    "'''Approach 2: Using for loop, function and collection data types tuple, dictionary'''\n",
    "\n",
    "def createMCQ():\n",
    "    provideMoreQuestions = True\n",
    "    questionnaire ={}\n",
    "    answers ={}\n",
    "    count = 1\n",
    "    while provideMoreQuestions:\n",
    "        question_n={}\n",
    "        question = input(\"Enter the mcq question\")\n",
    "        optionA = input(\"Enter the option A for the question\")\n",
    "        optionB = input(\"Enter the option B for the question\")\n",
    "        optionC = input(\"Enter the option C for the question\")\n",
    "        optionD = input(\"Enter the option D for the question\")\n",
    "        correctResponse = input(\"Enter the correct response for the question\")\n",
    "        \n",
    "        question_n['question']=question\n",
    "        question_n['optionA']=optionA\n",
    "        question_n['optionB']=optionB\n",
    "        question_n['optionC']=optionC\n",
    "        question_n['optionD']=optionD\n",
    "        questionnaire[count]=question_n\n",
    "        answers[count] = correctResponse.lower()\n",
    "        count += 1\n",
    "        nextQuestion = input(\"Enter 'yes' if you want to add more questions to the mcq, else enter 'no'\")\n",
    "        if nextQuestion.lower()=='no':\n",
    "            provideMoreQuestions=False\n",
    "\n",
    "    return questionnaire,answers\n",
    "\n",
    "def runMCQ(questionnaire,answers):\n",
    "    score = 0\n",
    "    for each in questionnaire:\n",
    "        print(\" Question number \",each)\n",
    "        print(questionnaire[each])\n",
    "        response = input(\"Enter A, B, C, or D as your choice for the response of this question\")\n",
    "        \n",
    "        if response.lower()==answers[each]:\n",
    "            print(\"That's correct, well Done\")\n",
    "            score +=1\n",
    "        else:\n",
    "            print(\"The correct response was: \", answers[each]) \n",
    "    print(\"Your total score is : \", score)\n",
    "    \n",
    "    "
   ]
  },
  {
   "cell_type": "code",
   "execution_count": null,
   "id": "piano-realtor",
   "metadata": {},
   "outputs": [],
   "source": [
    "qAndA = createMCQ()\n",
    "questionnaire=qAndA[0]\n",
    "answers = qAndA[1]\n",
    "print(\"\\n\\n############################\")\n",
    "print(\"Let the games begin :D \\n All The Best \\n ########################################\\n\\n\")\n",
    "runMCQ(questionnaire,answers)"
   ]
  },
  {
   "cell_type": "code",
   "execution_count": null,
   "id": "alert-visitor",
   "metadata": {},
   "outputs": [],
   "source": []
  }
 ],
 "metadata": {
  "kernelspec": {
   "display_name": "Python 3",
   "language": "python",
   "name": "python3"
  },
  "language_info": {
   "codemirror_mode": {
    "name": "ipython",
    "version": 3
   },
   "file_extension": ".py",
   "mimetype": "text/x-python",
   "name": "python",
   "nbconvert_exporter": "python",
   "pygments_lexer": "ipython3",
   "version": "3.8.5"
  }
 },
 "nbformat": 4,
 "nbformat_minor": 5
}
