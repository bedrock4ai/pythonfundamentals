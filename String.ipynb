{
 "cells": [
  {
   "cell_type": "markdown",
   "metadata": {},
   "source": [
    "# Sequence of characters enclosed by ‘, “ or ‘’’ (Multi-line)"
   ]
  },
  {
   "cell_type": "code",
   "execution_count": 6,
   "metadata": {},
   "outputs": [
    {
     "name": "stdout",
     "output_type": "stream",
     "text": [
      "\tThis is my first line\n",
      "\n",
      "\n",
      "This is line 2\n"
     ]
    }
   ],
   "source": [
    "print(\"\\tThis is my first line\")\n",
    "print(\"\\n\")\n",
    "print(\"This is line 2\")"
   ]
  },
  {
   "cell_type": "code",
   "execution_count": null,
   "metadata": {},
   "outputs": [],
   "source": [
    "print(\"This is my first line\")\n",
    "print(\"\")\n",
    "print(\"This is line 2\")"
   ]
  },
  {
   "cell_type": "code",
   "execution_count": null,
   "metadata": {},
   "outputs": [],
   "source": [
    "print(\"This is my first line\", end=\"\\n\")\n",
    "print(\"This is line 2\")"
   ]
  },
  {
   "cell_type": "code",
   "execution_count": null,
   "metadata": {},
   "outputs": [],
   "source": [
    "print('''I want to write a story about\n",
    "\n",
    "a Cat and a Monkey. The cat and the Monkey\n",
    "were close friends\n",
    "One day the found a ticket to Disney land\n",
    "dfjkjlkdjlksfdjkjlfd\n",
    "jkhjlkjjlkkjlklklklk; v\n",
    "\n",
    "\n",
    "''')"
   ]
  },
  {
   "cell_type": "code",
   "execution_count": 2,
   "metadata": {},
   "outputs": [
    {
     "name": "stdout",
     "output_type": "stream",
     "text": [
      "I want to write a story about a Cat and a Monkey. \n",
      "The cat and the Monkey were close friends\n",
      "One day the found a ticket to Disney land\n"
     ]
    }
   ],
   "source": [
    "print('''I want to write a story about a Cat and a Monkey. \n",
    "The cat and the Monkey were close friends\n",
    "One day the found a ticket to Disney land''')"
   ]
  },
  {
   "cell_type": "code",
   "execution_count": null,
   "metadata": {},
   "outputs": [],
   "source": [
    "print(\" This is my line one\" + \"\\n\\n\" +\"This is line two\")"
   ]
  },
  {
   "cell_type": "code",
   "execution_count": null,
   "metadata": {},
   "outputs": [],
   "source": [
    "print(\"This is my first line\" +\"\\n\\n\\n\\n\\n\")\n",
    "print(\"This is second line\")\n",
    "print(\"This is third line\")\n",
    "\n",
    "var1 = \"My name is Groot\"\n",
    "print(var1)"
   ]
  },
  {
   "cell_type": "markdown",
   "metadata": {},
   "source": [
    "# Arithmetic operations on strings"
   ]
  },
  {
   "cell_type": "code",
   "execution_count": 1,
   "metadata": {},
   "outputs": [],
   "source": [
    "var1 = \"Robert\"\n",
    "var2 = \"Brown\""
   ]
  },
  {
   "cell_type": "code",
   "execution_count": 4,
   "metadata": {},
   "outputs": [
    {
     "name": "stdout",
     "output_type": "stream",
     "text": [
      "Robert\t\t\tBrown\n",
      "RobertRobertRobertRobertRobert\n"
     ]
    }
   ],
   "source": [
    "print(var1 + \"\\t\\t\\t\"+  var2)\n",
    "print(var1*5)"
   ]
  },
  {
   "cell_type": "markdown",
   "metadata": {},
   "source": [
    "# Indexing and Slicing"
   ]
  },
  {
   "cell_type": "code",
   "execution_count": 8,
   "metadata": {},
   "outputs": [
    {
     "data": {
      "text/plain": [
       "str"
      ]
     },
     "execution_count": 8,
     "metadata": {},
     "output_type": "execute_result"
    }
   ],
   "source": [
    "var1 = \"Bedrock4AI rocks Bigtime!!\" \n",
    "var2 = \"Foopppkkkopd\"\n",
    "var3 = \"4567\"\n",
    "type(var3)"
   ]
  },
  {
   "cell_type": "code",
   "execution_count": 7,
   "metadata": {},
   "outputs": [
    {
     "name": "stdout",
     "output_type": "stream",
     "text": [
      "r\n",
      "BdokA ok itm!\n"
     ]
    }
   ],
   "source": [
    "# Read a specific index, index starts from 0(first character)\n",
    "# If you are reading in reverse order, last character is index = -1\n",
    "#reading 4th character from the string stored in var1\n",
    "print(var1[3])\n",
    "\n",
    "#Read the alternate characters from var1\n",
    "# <variableName>[startIndex:stopIndex:step]\n",
    "\n",
    "print(var1[0:len(var1):2])\n"
   ]
  },
  {
   "cell_type": "code",
   "execution_count": 2,
   "metadata": {},
   "outputs": [
    {
     "data": {
      "text/plain": [
       "'xarD toorG'"
      ]
     },
     "execution_count": 2,
     "metadata": {},
     "output_type": "execute_result"
    }
   ],
   "source": [
    "# slicing <variableName>[startindex:stopIndex:step]\n",
    "name= \"Groot Drax\"\n",
    "name[-1:-(len(name)+1):-1]"
   ]
  },
  {
   "cell_type": "code",
   "execution_count": 3,
   "metadata": {},
   "outputs": [
    {
     "data": {
      "text/plain": [
       "'xarD toorG'"
      ]
     },
     "execution_count": 3,
     "metadata": {},
     "output_type": "execute_result"
    }
   ],
   "source": [
    "#another way to do the same, string reversal\n",
    "\n",
    "name[::-1]"
   ]
  },
  {
   "cell_type": "code",
   "execution_count": 3,
   "metadata": {},
   "outputs": [
    {
     "name": "stdout",
     "output_type": "stream",
     "text": [
      "dr\n"
     ]
    }
   ],
   "source": [
    "name=\"Bedrock4AI\"\n",
    "print(name[2:4])"
   ]
  },
  {
   "cell_type": "markdown",
   "metadata": {},
   "source": [
    "# Find the number of characters in a string"
   ]
  },
  {
   "cell_type": "code",
   "execution_count": null,
   "metadata": {},
   "outputs": [],
   "source": [
    "len(var2)"
   ]
  },
  {
   "cell_type": "markdown",
   "metadata": {},
   "source": [
    "# count the number of occurences of a character or sequence of characters"
   ]
  },
  {
   "cell_type": "code",
   "execution_count": null,
   "metadata": {},
   "outputs": [],
   "source": [
    "\n",
    "print(var1.count(\"e\"))\n",
    "print(var1.count(\"elf\"))"
   ]
  },
  {
   "cell_type": "markdown",
   "metadata": {},
   "source": [
    "# find the index of first occurence of a character or substring in a string. If it is not found, it returns -1"
   ]
  },
  {
   "cell_type": "code",
   "execution_count": null,
   "metadata": {},
   "outputs": [],
   "source": [
    "\n",
    "var2.find(\"rock\")"
   ]
  },
  {
   "cell_type": "markdown",
   "metadata": {},
   "source": [
    "# converting a string to upper case or lower case"
   ]
  },
  {
   "cell_type": "code",
   "execution_count": null,
   "metadata": {},
   "outputs": [],
   "source": [
    "\n",
    "fruit1 = \"apPle\"\n",
    "fruit1 = fruit1.upper()\n",
    "print(\" Converting fruit1 to uppercase ---> \", fruit1.upper())"
   ]
  },
  {
   "cell_type": "code",
   "execution_count": null,
   "metadata": {},
   "outputs": [],
   "source": [
    "print(\"value of the variable fruit1 =  \", fruit1)"
   ]
  },
  {
   "cell_type": "code",
   "execution_count": null,
   "metadata": {},
   "outputs": [],
   "source": [
    "fruit2 = fruit1.lower()\n",
    "print(fruit2)"
   ]
  },
  {
   "cell_type": "code",
   "execution_count": 4,
   "metadata": {},
   "outputs": [
    {
     "name": "stdout",
     "output_type": "stream",
     "text": [
      "drax\n"
     ]
    }
   ],
   "source": [
    "'''Notice the output, the print statement prints the \"drax\" in lower case, not upper, \n",
    "because the variable is referring to the prior value. To get the updated uppercase value, modify the statement as\n",
    "name = name.upper()'''\n",
    "name=\"drax\"\n",
    "name.upper()\n",
    "print(name)"
   ]
  },
  {
   "cell_type": "code",
   "execution_count": 2,
   "metadata": {},
   "outputs": [
    {
     "name": "stdout",
     "output_type": "stream",
     "text": [
      "DRAX\n"
     ]
    }
   ],
   "source": [
    "name=\"drax\"\n",
    "name= name.upper()\n",
    "print(name)"
   ]
  },
  {
   "cell_type": "markdown",
   "metadata": {},
   "source": [
    "# Replace a character or a sequence of characters by another character or sequence of characters"
   ]
  },
  {
   "cell_type": "code",
   "execution_count": null,
   "metadata": {},
   "outputs": [],
   "source": [
    "print(fruit1)\n",
    "print(fruit1.replace(\"LE\",\"q\"))\n",
    "fruit1= fruit1.replace(\"LE\",\"q\")"
   ]
  },
  {
   "cell_type": "code",
   "execution_count": null,
   "metadata": {},
   "outputs": [],
   "source": [
    "print(fruit1)\n",
    "\n",
    "name=name.replace('A','*').replace('e','*').replace('i',\"*\")\n",
    "print(name)\n",
    "\n",
    "name = \"My name is Groot\"\n",
    "#Notice the value printed when you print the variable \"name\". Remember strings are immutable. \n",
    "name.replace(\"am\", \"groot\")\n",
    "name.replace(\"Groot\", \"drax\")\n",
    "\n",
    "print(name)"
   ]
  },
  {
   "cell_type": "markdown",
   "metadata": {},
   "source": [
    "# Splitting a string to a list of substrings "
   ]
  },
  {
   "cell_type": "code",
   "execution_count": null,
   "metadata": {},
   "outputs": [],
   "source": [
    "names = \"Muqtasid Mohan Ateeb Bushra Monika\"\n",
    "students = names.split(\" \")\n",
    "type(students)\n",
    "print(names[0])\n",
    "\n",
    "students[0] = \"Ayaan\"\n",
    "print(names)\n"
   ]
  },
  {
   "cell_type": "markdown",
   "metadata": {},
   "source": [
    "# Find if a character or substring occurs in a string"
   ]
  },
  {
   "cell_type": "code",
   "execution_count": 1,
   "metadata": {},
   "outputs": [
    {
     "name": "stdout",
     "output_type": "stream",
     "text": [
      "The word 'cool' appears in the provided sentence\n",
      "The word 'rock' does not appear in the provided sentence\n",
      "True\n"
     ]
    }
   ],
   "source": [
    "inputsentence = \"This is a cool phone. I like how cool the camera is. This is super cool\"\n",
    "if \"cool\" in inputsentence:\n",
    "    print(\"The word 'cool' appears in the provided sentence\")\n",
    "    \n",
    "if \"rock\" not in inputsentence:\n",
    "    print(\"The word 'rock' does not appear in the provided sentence\")\n",
    "    \n",
    "    \n",
    "    \n",
    "print(\"cool\" in inputsentence) #returns a boolean"
   ]
  },
  {
   "cell_type": "code",
   "execution_count": null,
   "metadata": {},
   "outputs": [],
   "source": [
    "inputsentence = \"This is a cool phone. I like how cool the camera is. This is super cool\"\n",
    "#Find if \"cool\" appears in the sentence\n",
    "#print the number of times \"cool\" appears in the sentence\n",
    "#replace \"cool\" by \"crap\"\n",
    "#print the updated sentence"
   ]
  },
  {
   "cell_type": "code",
   "execution_count": 3,
   "metadata": {},
   "outputs": [
    {
     "data": {
      "text/plain": [
       "-1"
      ]
     },
     "execution_count": 3,
     "metadata": {},
     "output_type": "execute_result"
    }
   ],
   "source": [
    "index = inputsentence.find(\"cool\")\n",
    "if index!= -1:\n",
    "    print(\"The word 'cool' appears in the input sentence\")\n",
    "\n"
   ]
  },
  {
   "cell_type": "code",
   "execution_count": null,
   "metadata": {},
   "outputs": [],
   "source": []
  },
  {
   "cell_type": "code",
   "execution_count": null,
   "metadata": {},
   "outputs": [],
   "source": []
  },
  {
   "cell_type": "code",
   "execution_count": null,
   "metadata": {},
   "outputs": [],
   "source": []
  },
  {
   "cell_type": "code",
   "execution_count": null,
   "metadata": {},
   "outputs": [],
   "source": []
  }
 ],
 "metadata": {
  "kernelspec": {
   "display_name": "Python 3",
   "language": "python",
   "name": "python3"
  },
  "language_info": {
   "codemirror_mode": {
    "name": "ipython",
    "version": 3
   },
   "file_extension": ".py",
   "mimetype": "text/x-python",
   "name": "python",
   "nbconvert_exporter": "python",
   "pygments_lexer": "ipython3",
   "version": "3.8.5"
  }
 },
 "nbformat": 4,
 "nbformat_minor": 4
}
